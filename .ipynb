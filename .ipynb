cat <<EOF > MainQuest/Quest01/Quest01.ipynb
{
 "cells": [],
 "metadata": {},
 "nbformat": 4,
 "nbformat_minor": 2
}
EOF

